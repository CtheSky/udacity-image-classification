{
 "cells": [
  {
   "cell_type": "markdown",
   "metadata": {
    "deletable": true,
    "editable": true,
    "ein.tags": [
     "worksheet-0"
    ],
    "slideshow": {
     "slide_type": "-"
    }
   },
   "source": [
    "# Image Classification\n",
    "In this project, you'll classify images from the [CIFAR-10 dataset](https://www.cs.toronto.edu/~kriz/cifar.html).  The dataset consists of airplanes, dogs, cats, and other objects. You'll preprocess the images, then train a convolutional neural network on all the samples. The images need to be normalized and the labels need to be one-hot encoded.  You'll get to apply what you learned and build a convolutional, max pooling, dropout, and fully connected layers.  At the end, you'll get to see your neural network's predictions on the sample images.\n",
    "## Get the Data\n",
    "Run the following cell to download the [CIFAR-10 dataset for python](https://www.cs.toronto.edu/~kriz/cifar-10-python.tar.gz)."
   ]
  },
  {
   "cell_type": "code",
   "execution_count": 1,
   "metadata": {
    "collapsed": false
   },
   "outputs": [
    {
     "name": "stdout",
     "output_type": "stream",
     "text": [
      "Collecting tqdm\n",
      "  Downloading tqdm-4.11.2-py2.py3-none-any.whl (46kB)\n",
      "\u001b[K    100% |████████████████████████████████| 51kB 2.6MB/s ta 0:00:01\n",
      "\u001b[?25hInstalling collected packages: tqdm\n",
      "Successfully installed tqdm-4.11.2\n"
     ]
    }
   ],
   "source": [
    "!pip install tqdm"
   ]
  },
  {
   "cell_type": "code",
   "execution_count": 2,
   "metadata": {
    "autoscroll": "json-false",
    "collapsed": false,
    "deletable": true,
    "editable": true,
    "ein.tags": [
     "worksheet-0"
    ],
    "slideshow": {
     "slide_type": "-"
    }
   },
   "outputs": [
    {
     "name": "stdout",
     "output_type": "stream",
     "text": [
      "All files found!\n"
     ]
    }
   ],
   "source": [
    "\"\"\"\n",
    "DON'T MODIFY ANYTHING IN THIS CELL THAT IS BELOW THIS LINE\n",
    "\"\"\"\n",
    "from urllib.request import urlretrieve\n",
    "from os.path import isfile, isdir\n",
    "from tqdm import tqdm\n",
    "import problem_unittests as tests\n",
    "import tarfile\n",
    "\n",
    "cifar10_dataset_folder_path = 'cifar-10-batches-py'\n",
    "\n",
    "# Use Floyd's cifar-10 dataset if present\n",
    "floyd_cifar10_location = '/input/cifar-10/python.tar.gz'\n",
    "if isfile(floyd_cifar10_location):\n",
    "    tar_gz_path = floyd_cifar10_location\n",
    "else:\n",
    "    tar_gz_path = 'cifar-10-python.tar.gz'\n",
    "\n",
    "class DLProgress(tqdm):\n",
    "    last_block = 0\n",
    "\n",
    "    def hook(self, block_num=1, block_size=1, total_size=None):\n",
    "        self.total = total_size\n",
    "        self.update((block_num - self.last_block) * block_size)\n",
    "        self.last_block = block_num\n",
    "\n",
    "if not isfile(tar_gz_path):\n",
    "    with DLProgress(unit='B', unit_scale=True, miniters=1, desc='CIFAR-10 Dataset') as pbar:\n",
    "        urlretrieve(\n",
    "            'https://www.cs.toronto.edu/~kriz/cifar-10-python.tar.gz',\n",
    "            tar_gz_path,\n",
    "            pbar.hook)\n",
    "\n",
    "if not isdir(cifar10_dataset_folder_path):\n",
    "    with tarfile.open(tar_gz_path) as tar:\n",
    "        tar.extractall()\n",
    "        tar.close()\n",
    "\n",
    "\n",
    "tests.test_folder_path(cifar10_dataset_folder_path)"
   ]
  },
  {
   "cell_type": "markdown",
   "metadata": {
    "deletable": true,
    "editable": true,
    "ein.tags": [
     "worksheet-0"
    ],
    "slideshow": {
     "slide_type": "-"
    }
   },
   "source": [
    "## Explore the Data\n",
    "The dataset is broken into batches to prevent your machine from running out of memory.  The CIFAR-10 dataset consists of 5 batches, named `data_batch_1`, `data_batch_2`, etc.. Each batch contains the labels and images that are one of the following:\n",
    "* airplane\n",
    "* automobile\n",
    "* bird\n",
    "* cat\n",
    "* deer\n",
    "* dog\n",
    "* frog\n",
    "* horse\n",
    "* ship\n",
    "* truck\n",
    "\n",
    "Understanding a dataset is part of making predictions on the data.  Play around with the code cell below by changing the `batch_id` and `sample_id`. The `batch_id` is the id for a batch (1-5). The `sample_id` is the id for a image and label pair in the batch.\n",
    "\n",
    "Ask yourself \"What are all possible labels?\", \"What is the range of values for the image data?\", \"Are the labels in order or random?\".  Answers to questions like these will help you preprocess the data and end up with better predictions."
   ]
  },
  {
   "cell_type": "code",
   "execution_count": 3,
   "metadata": {
    "autoscroll": "json-false",
    "collapsed": false,
    "deletable": true,
    "editable": true,
    "ein.tags": [
     "worksheet-0"
    ],
    "slideshow": {
     "slide_type": "-"
    }
   },
   "outputs": [
    {
     "name": "stdout",
     "output_type": "stream",
     "text": [
      "\n",
      "Stats of batch 1:\n",
      "Samples: 10000\n",
      "Label Counts: {0: 1005, 1: 974, 2: 1032, 3: 1016, 4: 999, 5: 937, 6: 1030, 7: 1001, 8: 1025, 9: 981}\n",
      "First 20 Labels: [6, 9, 9, 4, 1, 1, 2, 7, 8, 3, 4, 7, 7, 2, 9, 9, 9, 3, 2, 6]\n",
      "\n",
      "Example of Image 5:\n",
      "Image - Min Value: 0 Max Value: 252\n",
      "Image - Shape: (32, 32, 3)\n",
      "Label - Label Id: 1 Name: automobile\n"
     ]
    },
    {
     "data": {
      "image/png": "[encoded data removed]",
      "text/plain": [
       "<matplotlib.figure.Figure at 0x7f232cf126a0>"
      ]
     },
     "metadata": {
      "image/png": {
       "height": 250,
       "width": 253
      }
     },
     "output_type": "display_data"
    }
   ],
   "source": [
    "%matplotlib inline\n",
    "%config InlineBackend.figure_format = 'retina'\n",
    "\n",
    "import helper\n",
    "import numpy as np\n",
    "\n",
    "# Explore the dataset\n",
    "batch_id = 1\n",
    "sample_id = 5\n",
    "helper.display_stats(cifar10_dataset_folder_path, batch_id, sample_id)"
   ]
  },
  {
   "cell_type": "markdown",
   "metadata": {
    "deletable": true,
    "editable": true,
    "ein.tags": [
     "worksheet-0"
    ],
    "slideshow": {
     "slide_type": "-"
    }
   },
   "source": [
    "## Implement Preprocess Functions\n",
    "### Normalize\n",
    "In the cell below, implement the `normalize` function to take in image data, `x`, and return it as a normalized Numpy array. The values should be in the range of 0 to 1, inclusive.  The return object should be the same shape as `x`."
   ]
  },
  {
   "cell_type": "code",
   "execution_count": 5,
   "metadata": {
    "autoscroll": "json-false",
    "collapsed": false,
    "deletable": true,
    "editable": true,
    "ein.tags": [
     "worksheet-0"
    ],
    "slideshow": {
     "slide_type": "-"
    }
   },
   "outputs": [
    {
     "name": "stdout",
     "output_type": "stream",
     "text": [
      "Tests Passed\n"
     ]
    }
   ],
   "source": [
    "def normalize(x):\n",
    "    \"\"\"\n",
    "    Normalize a list of sample image data in the range of 0 to 1\n",
    "    : x: List of image data.  The image shape is (32, 32, 3)\n",
    "    : return: Numpy array of normalize data\n",
    "    \"\"\"\n",
    "    max_value = np.amax(x)\n",
    "    min_value = np.amin(x)\n",
    "    return (x - min_value) / (max_value - min_value)\n",
    "\n",
    "\n",
    "\"\"\"\n",
    "DON'T MODIFY ANYTHING IN THIS CELL THAT IS BELOW THIS LINE\n",
    "\"\"\"\n",
    "tests.test_normalize(normalize)"
   ]
  },
  {
   "cell_type": "markdown",
   "metadata": {
    "deletable": true,
    "editable": true,
    "ein.tags": [
     "worksheet-0"
    ],
    "slideshow": {
     "slide_type": "-"
    }
   },
   "source": [
    "### One-hot encode\n",
    "Just like the previous code cell, you'll be implementing a function for preprocessing.  This time, you'll implement the `one_hot_encode` function. The input, `x`, are a list of labels.  Implement the function to return the list of labels as One-Hot encoded Numpy array.  The possible values for labels are 0 to 9. The one-hot encoding function should return the same encoding for each value between each call to `one_hot_encode`.  Make sure to save the map of encodings outside the function.\n",
    "\n",
    "Hint: Don't reinvent the wheel."
   ]
  },
  {
   "cell_type": "code",
   "execution_count": 6,
   "metadata": {
    "autoscroll": "json-false",
    "collapsed": false,
    "deletable": true,
    "editable": true,
    "ein.tags": [
     "worksheet-0"
    ],
    "slideshow": {
     "slide_type": "-"
    }
   },
   "outputs": [
    {
     "name": "stdout",
     "output_type": "stream",
     "text": [
      "Tests Passed\n"
     ]
    }
   ],
   "source": [
    "encode_map = np.eye(10)\n",
    "    \n",
    "def one_hot_encode(x):\n",
    "    \"\"\"\n",
    "    One hot encode a list of sample labels. Return a one-hot encoded vector for each label.\n",
    "    : x: List of sample Labels\n",
    "    : return: Numpy array of one-hot encoded labels\n",
    "    \"\"\"\n",
    "    return np.array([encode_map[i] for i in x])\n",
    "\n",
    "\n",
    "\"\"\"\n",
    "DON'T MODIFY ANYTHING IN THIS CELL THAT IS BELOW THIS LINE\n",
    "\"\"\"\n",
    "tests.test_one_hot_encode(one_hot_encode)"
   ]
  },
  {
   "cell_type": "markdown",
   "metadata": {
    "deletable": true,
    "editable": true,
    "ein.tags": [
     "worksheet-0"
    ],
    "slideshow": {
     "slide_type": "-"
    }
   },
   "source": [
    "### Randomize Data\n",
    "As you saw from exploring the data above, the order of the samples are randomized.  It doesn't hurt to randomize it again, but you don't need to for this dataset."
   ]
  },
  {
   "cell_type": "markdown",
   "metadata": {
    "deletable": true,
    "editable": true,
    "ein.tags": [
     "worksheet-0"
    ],
    "slideshow": {
     "slide_type": "-"
    }
   },
   "source": [
    "## Preprocess all the data and save it\n",
    "Running the code cell below will preprocess all the CIFAR-10 data and save it to file. The code below also uses 10% of the training data for validation."
   ]
  },
  {
   "cell_type": "code",
   "execution_count": 7,
   "metadata": {
    "autoscroll": "json-false",
    "collapsed": false,
    "deletable": true,
    "editable": true,
    "ein.tags": [
     "worksheet-0"
    ],
    "slideshow": {
     "slide_type": "-"
    }
   },
   "outputs": [],
   "source": [
    "\"\"\"\n",
    "DON'T MODIFY ANYTHING IN THIS CELL\n",
    "\"\"\"\n",
    "# Preprocess Training, Validation, and Testing Data\n",
    "helper.preprocess_and_save_data(cifar10_dataset_folder_path, normalize, one_hot_encode)"
   ]
  },
  {
   "cell_type": "markdown",
   "metadata": {
    "deletable": true,
    "editable": true,
    "ein.tags": [
     "worksheet-0"
    ],
    "slideshow": {
     "slide_type": "-"
    }
   },
   "source": [
    "# Check Point\n",
    "This is your first checkpoint.  If you ever decide to come back to this notebook or have to restart the notebook, you can start from here.  The preprocessed data has been saved to disk."
   ]
  },
  {
   "cell_type": "code",
   "execution_count": 8,
   "metadata": {
    "autoscroll": "json-false",
    "collapsed": false,
    "deletable": true,
    "editable": true,
    "ein.tags": [
     "worksheet-0"
    ],
    "slideshow": {
     "slide_type": "-"
    }
   },
   "outputs": [],
   "source": [
    "\"\"\"\n",
    "DON'T MODIFY ANYTHING IN THIS CELL\n",
    "\"\"\"\n",
    "import pickle\n",
    "import problem_unittests as tests\n",
    "import helper\n",
    "\n",
    "# Load the Preprocessed Validation data\n",
    "valid_features, valid_labels = pickle.load(open('preprocess_validation.p', mode='rb'))"
   ]
  },
  {
   "cell_type": "markdown",
   "metadata": {
    "deletable": true,
    "editable": true,
    "ein.tags": [
     "worksheet-0"
    ],
    "slideshow": {
     "slide_type": "-"
    }
   },
   "source": [
    "## Build the network\n",
    "For the neural network, you'll build each layer into a function.  Most of the code you've seen has been outside of functions. To test your code more thoroughly, we require that you put each layer in a function.  This allows us to give you better feedback and test for simple mistakes using our unittests before you submit your project.\n",
    "\n",
    ">**Note:** If you're finding it hard to dedicate enough time for this course each week, we've provided a small shortcut to this part of the project. In the next couple of problems, you'll have the option to use classes from the [TensorFlow Layers](https://www.tensorflow.org/api_docs/python/tf/layers) or [TensorFlow Layers (contrib)](https://www.tensorflow.org/api_guides/python/contrib.layers) packages to build each layer, except the layers you build in the \"Convolutional and Max Pooling Layer\" section.  TF Layers is similar to Keras's and TFLearn's abstraction to layers, so it's easy to pickup.\n",
    "\n",
    ">However, if you would like to get the most out of this course, try to solve all the problems _without_ using anything from the TF Layers packages. You **can** still use classes from other packages that happen to have the same name as ones you find in TF Layers! For example, instead of using the TF Layers version of the `conv2d` class, [tf.layers.conv2d](https://www.tensorflow.org/api_docs/python/tf/layers/conv2d), you would want to use the TF Neural Network version of `conv2d`, [tf.nn.conv2d](https://www.tensorflow.org/api_docs/python/tf/nn/conv2d). \n",
    "\n",
    "Let's begin!\n",
    "\n",
    "### Input\n",
    "The neural network needs to read the image data, one-hot encoded labels, and dropout keep probability. Implement the following functions\n",
    "* Implement `neural_net_image_input`\n",
    " * Return a [TF Placeholder](https://www.tensorflow.org/api_docs/python/tf/placeholder)\n",
    " * Set the shape using `image_shape` with batch size set to `None`.\n",
    " * Name the TensorFlow placeholder \"x\" using the TensorFlow `name` parameter in the [TF Placeholder](https://www.tensorflow.org/api_docs/python/tf/placeholder).\n",
    "* Implement `neural_net_label_input`\n",
    " * Return a [TF Placeholder](https://www.tensorflow.org/api_docs/python/tf/placeholder)\n",
    " * Set the shape using `n_classes` with batch size set to `None`.\n",
    " * Name the TensorFlow placeholder \"y\" using the TensorFlow `name` parameter in the [TF Placeholder](https://www.tensorflow.org/api_docs/python/tf/placeholder).\n",
    "* Implement `neural_net_keep_prob_input`\n",
    " * Return a [TF Placeholder](https://www.tensorflow.org/api_docs/python/tf/placeholder) for dropout keep probability.\n",
    " * Name the TensorFlow placeholder \"keep_prob\" using the TensorFlow `name` parameter in the [TF Placeholder](https://www.tensorflow.org/api_docs/python/tf/placeholder).\n",
    "\n",
    "These names will be used at the end of the project to load your saved model.\n",
    "\n",
    "Note: `None` for shapes in TensorFlow allow for a dynamic size."
   ]
  },
  {
   "cell_type": "code",
   "execution_count": 9,
   "metadata": {
    "autoscroll": "json-false",
    "collapsed": false,
    "deletable": true,
    "editable": true,
    "ein.tags": [
     "worksheet-0"
    ],
    "slideshow": {
     "slide_type": "-"
    }
   },
   "outputs": [
    {
     "name": "stdout",
     "output_type": "stream",
     "text": [
      "Image Input Tests Passed.\n",
      "Label Input Tests Passed.\n",
      "Keep Prob Tests Passed.\n"
     ]
    }
   ],
   "source": [
    "import tensorflow as tf\n",
    "\n",
    "def neural_net_image_input(image_shape):\n",
    "    \"\"\"\n",
    "    Return a Tensor for a batch of image input\n",
    "    : image_shape: Shape of the images\n",
    "    : return: Tensor for image input.\n",
    "    \"\"\"       \n",
    "    return tf.placeholder(tf.float32, shape=(None,)+image_shape, name='x')\n",
    "\n",
    "\n",
    "def neural_net_label_input(n_classes):\n",
    "    \"\"\"\n",
    "    Return a Tensor for a batch of label input\n",
    "    : n_classes: Number of classes\n",
    "    : return: Tensor for label input.\n",
    "    \"\"\"\n",
    "    return tf.placeholder(tf.float32, shape=(None,n_classes), name='y')\n",
    "\n",
    "\n",
    "def neural_net_keep_prob_input():\n",
    "    \"\"\"\n",
    "    Return a Tensor for keep probability\n",
    "    : return: Tensor for keep probability.\n",
    "    \"\"\"\n",
    "    return tf.placeholder(tf.float32, name='keep_prob')\n",
    "\n",
    "\n",
    "\"\"\"\n",
    "DON'T MODIFY ANYTHING IN THIS CELL THAT IS BELOW THIS LINE\n",
    "\"\"\"\n",
    "tf.reset_default_graph()\n",
    "tests.test_nn_image_inputs(neural_net_image_input)\n",
    "tests.test_nn_label_inputs(neural_net_label_input)\n",
    "tests.test_nn_keep_prob_inputs(neural_net_keep_prob_input)"
   ]
  },
  {
   "cell_type": "markdown",
   "metadata": {
    "deletable": true,
    "editable": true,
    "ein.tags": [
     "worksheet-0"
    ],
    "slideshow": {
     "slide_type": "-"
    }
   },
   "source": [
    "### Convolution and Max Pooling Layer\n",
    "Convolution layers have a lot of success with images. For this code cell, you should implement the function `conv2d_maxpool` to apply convolution then max pooling:\n",
    "* Create the weight and bias using `conv_ksize`, `conv_num_outputs` and the shape of `x_tensor`.\n",
    "* Apply a convolution to `x_tensor` using weight and `conv_strides`.\n",
    " * We recommend you use same padding, but you're welcome to use any padding.\n",
    "* Add bias\n",
    "* Add a nonlinear activation to the convolution.\n",
    "* Apply Max Pooling using `pool_ksize` and `pool_strides`.\n",
    " * We recommend you use same padding, but you're welcome to use any padding.\n",
    "\n",
    "**Note:** You **can't** use [TensorFlow Layers](https://www.tensorflow.org/api_docs/python/tf/layers) or [TensorFlow Layers (contrib)](https://www.tensorflow.org/api_guides/python/contrib.layers) for **this** layer, but you can still use TensorFlow's [Neural Network](https://www.tensorflow.org/api_docs/python/tf/nn) package. You may still use the shortcut option for all the **other** layers."
   ]
  },
  {
   "cell_type": "code",
   "execution_count": 10,
   "metadata": {
    "autoscroll": "json-false",
    "collapsed": false,
    "deletable": true,
    "editable": true,
    "ein.tags": [
     "worksheet-0"
    ],
    "slideshow": {
     "slide_type": "-"
    }
   },
   "outputs": [
    {
     "name": "stdout",
     "output_type": "stream",
     "text": [
      "Tests Passed\n"
     ]
    }
   ],
   "source": [
    "def conv2d_maxpool(x_tensor, conv_num_outputs, conv_ksize, conv_strides, pool_ksize, pool_strides):\n",
    "    \"\"\"\n",
    "    Apply convolution then max pooling to x_tensor\n",
    "    :param x_tensor: TensorFlow Tensor\n",
    "    :param conv_num_outputs: Number of outputs for the convolutional layer\n",
    "    :param conv_ksize: kernal size 2-D Tuple for the convolutional layer\n",
    "    :param conv_strides: Stride 2-D Tuple for convolution\n",
    "    :param pool_ksize: kernal size 2-D Tuple for pool\n",
    "    :param pool_strides: Stride 2-D Tuple for pool\n",
    "    : return: A tensor that represents convolution and max pooling of x_tensor\n",
    "    \"\"\"\n",
    "    # tweak shape a little for tensorflow\n",
    "    filter_shape = conv_ksize + (x_tensor.get_shape().as_list()[-1], conv_num_outputs)\n",
    "    conv_strides = (1,) + conv_strides + (1,)\n",
    "    pool_ksize = (1,) + pool_ksize + (1,)\n",
    "    pool_strides = (1,) + pool_strides + (1,)\n",
    "\n",
    "    # declare trainables\n",
    "    filters = tf.Variable(tf.truncated_normal(filter_shape, stddev=0.1))\n",
    "    bias = tf.Variable(tf.zeros(conv_num_outputs))\n",
    "\n",
    "    # build conv layer\n",
    "    conv = tf.nn.conv2d(x_tensor, filters, conv_strides, padding='SAME')\n",
    "    conv = tf.nn.bias_add(conv, bias)\n",
    "    conv = tf.nn.relu(conv)\n",
    "    conv = tf.nn.max_pool(conv, pool_ksize, pool_strides, padding='SAME')\n",
    "    \n",
    "    return conv\n",
    "\n",
    "\n",
    "\"\"\"\n",
    "DON'T MODIFY ANYTHING IN THIS CELL THAT IS BELOW THIS LINE\n",
    "\"\"\"\n",
    "tests.test_con_pool(conv2d_maxpool)"
   ]
  },
  {
   "cell_type": "markdown",
   "metadata": {
    "deletable": true,
    "editable": true,
    "ein.tags": [
     "worksheet-0"
    ],
    "slideshow": {
     "slide_type": "-"
    }
   },
   "source": [
    "### Flatten Layer\n",
    "Implement the `flatten` function to change the dimension of `x_tensor` from a 4-D tensor to a 2-D tensor.  The output should be the shape (*Batch Size*, *Flattened Image Size*). Shortcut option: you can use classes from the [TensorFlow Layers](https://www.tensorflow.org/api_docs/python/tf/layers) or [TensorFlow Layers (contrib)](https://www.tensorflow.org/api_guides/python/contrib.layers) packages for this layer. For more of a challenge, only use other TensorFlow packages."
   ]
  },
  {
   "cell_type": "code",
   "execution_count": 11,
   "metadata": {
    "autoscroll": "json-false",
    "collapsed": false,
    "deletable": true,
    "editable": true,
    "ein.tags": [
     "worksheet-0"
    ],
    "slideshow": {
     "slide_type": "-"
    }
   },
   "outputs": [
    {
     "name": "stdout",
     "output_type": "stream",
     "text": [
      "Tests Passed\n"
     ]
    }
   ],
   "source": [
    "def flatten(x_tensor):\n",
    "    \"\"\"\n",
    "    Flatten x_tensor to (Batch Size, Flattened Image Size)\n",
    "    : x_tensor: A tensor of size (Batch Size, ...), where ... are the image dimensions.\n",
    "    : return: A tensor of size (Batch Size, Flattened Image Size).\n",
    "    \"\"\"\n",
    "    return tf.contrib.layers.flatten(x_tensor)\n",
    "\n",
    "\n",
    "\"\"\"\n",
    "DON'T MODIFY ANYTHING IN THIS CELL THAT IS BELOW THIS LINE\n",
    "\"\"\"\n",
    "tests.test_flatten(flatten)"
   ]
  },
  {
   "cell_type": "markdown",
   "metadata": {
    "deletable": true,
    "editable": true,
    "ein.tags": [
     "worksheet-0"
    ],
    "slideshow": {
     "slide_type": "-"
    }
   },
   "source": [
    "### Fully-Connected Layer\n",
    "Implement the `fully_conn` function to apply a fully connected layer to `x_tensor` with the shape (*Batch Size*, *num_outputs*). Shortcut option: you can use classes from the [TensorFlow Layers](https://www.tensorflow.org/api_docs/python/tf/layers) or [TensorFlow Layers (contrib)](https://www.tensorflow.org/api_guides/python/contrib.layers) packages for this layer. For more of a challenge, only use other TensorFlow packages."
   ]
  },
  {
   "cell_type": "code",
   "execution_count": 13,
   "metadata": {
    "autoscroll": "json-false",
    "collapsed": false,
    "deletable": true,
    "editable": true,
    "ein.tags": [
     "worksheet-0"
    ],
    "slideshow": {
     "slide_type": "-"
    }
   },
   "outputs": [
    {
     "name": "stdout",
     "output_type": "stream",
     "text": [
      "Tests Passed\n"
     ]
    }
   ],
   "source": [
    "def fully_conn(x_tensor, num_outputs):\n",
    "    \"\"\"\n",
    "    Apply a fully connected layer to x_tensor using weight and bias\n",
    "    : x_tensor: A 2-D tensor where the first dimension is batch size.\n",
    "    : num_outputs: The number of output that the new tensor should be.\n",
    "    : return: A 2-D tensor where the second dimension is num_outputs.\n",
    "    \"\"\"\n",
    "    num_inputs = x_tensor.get_shape().as_list()[1]\n",
    "    W = tf.Variable(tf.truncated_normal((num_inputs, num_outputs), stddev=0.1))\n",
    "    b = tf.Variable(tf.zeros(num_outputs))\n",
    "    output = tf.add(tf.matmul(x_tensor, W), b)\n",
    "    return tf.nn.relu(output)\n",
    "\n",
    "\n",
    "\"\"\"\n",
    "DON'T MODIFY ANYTHING IN THIS CELL THAT IS BELOW THIS LINE\n",
    "\"\"\"\n",
    "tests.test_fully_conn(fully_conn)"
   ]
  },
  {
   "cell_type": "markdown",
   "metadata": {
    "deletable": true,
    "editable": true,
    "ein.tags": [
     "worksheet-0"
    ],
    "slideshow": {
     "slide_type": "-"
    }
   },
   "source": [
    "### Output Layer\n",
    "Implement the `output` function to apply a fully connected layer to `x_tensor` with the shape (*Batch Size*, *num_outputs*). Shortcut option: you can use classes from the [TensorFlow Layers](https://www.tensorflow.org/api_docs/python/tf/layers) or [TensorFlow Layers (contrib)](https://www.tensorflow.org/api_guides/python/contrib.layers) packages for this layer. For more of a challenge, only use other TensorFlow packages.\n",
    "\n",
    "**Note:** Activation, softmax, or cross entropy should **not** be applied to this."
   ]
  },
  {
   "cell_type": "code",
   "execution_count": 14,
   "metadata": {
    "autoscroll": "json-false",
    "collapsed": false,
    "deletable": true,
    "editable": true,
    "ein.tags": [
     "worksheet-0"
    ],
    "slideshow": {
     "slide_type": "-"
    }
   },
   "outputs": [
    {
     "name": "stdout",
     "output_type": "stream",
     "text": [
      "Tests Passed\n"
     ]
    }
   ],
   "source": [
    "def output(x_tensor, num_outputs):\n",
    "    \"\"\"\n",
    "    Apply a output layer to x_tensor using weight and bias\n",
    "    : x_tensor: A 2-D tensor where the first dimension is batch size.\n",
    "    : num_outputs: The number of output that the new tensor should be.\n",
    "    : return: A 2-D tensor where the second dimension is num_outputs.\n",
    "    \"\"\"\n",
    "    num_inputs = x_tensor.get_shape().as_list()[1]\n",
    "    W = tf.Variable(tf.truncated_normal((num_inputs, num_outputs), stddev=0.1))\n",
    "    b = tf.Variable(tf.zeros(num_outputs))\n",
    "    return tf.add(tf.matmul(x_tensor, W), b)\n",
    "\n",
    "\n",
    "\"\"\"\n",
    "DON'T MODIFY ANYTHING IN THIS CELL THAT IS BELOW THIS LINE\n",
    "\"\"\"\n",
    "tests.test_output(output)"
   ]
  },
  {
   "cell_type": "markdown",
   "metadata": {
    "deletable": true,
    "editable": true,
    "ein.tags": [
     "worksheet-0"
    ],
    "slideshow": {
     "slide_type": "-"
    }
   },
   "source": [
    "### Create Convolutional Model\n",
    "Implement the function `conv_net` to create a convolutional neural network model. The function takes in a batch of images, `x`, and outputs logits.  Use the layers you created above to create this model:\n",
    "\n",
    "* Apply 1, 2, or 3 Convolution and Max Pool layers\n",
    "* Apply a Flatten Layer\n",
    "* Apply 1, 2, or 3 Fully Connected Layers\n",
    "* Apply an Output Layer\n",
    "* Return the output\n",
    "* Apply [TensorFlow's Dropout](https://www.tensorflow.org/api_docs/python/tf/nn/dropout) to one or more layers in the model using `keep_prob`. "
   ]
  },
  {
   "cell_type": "code",
   "execution_count": 44,
   "metadata": {
    "autoscroll": "json-false",
    "collapsed": false,
    "deletable": true,
    "editable": true,
    "ein.tags": [
     "worksheet-0"
    ],
    "slideshow": {
     "slide_type": "-"
    }
   },
   "outputs": [
    {
     "name": "stdout",
     "output_type": "stream",
     "text": [
      "Neural Network Built!\n"
     ]
    }
   ],
   "source": [
    "def conv_net(x, keep_prob):\n",
    "    \"\"\"\n",
    "    Create a convolutional neural network model\n",
    "    : x: Placeholder tensor that holds image data.\n",
    "    : keep_prob: Placeholder tensor that hold dropout keep probability.\n",
    "    : return: Tensor that represents logits\n",
    "    \"\"\"\n",
    "    network = conv2d_maxpool(x, 32, (5, 5), (1, 1), (2, 2), (2, 2))\n",
    "    network = conv2d_maxpool(network, 128, (5, 5), (1, 1), (2, 2), (2, 2))\n",
    "\n",
    "    network = flatten(network)\n",
    "\n",
    "    network = fully_conn(network, 1024)\n",
    "    network = tf.nn.dropout(network, keep_prob=keep_prob)\n",
    "    network = fully_conn(network, 1024)\n",
    "    network = tf.nn.dropout(network, keep_prob=keep_prob)\n",
    "    \n",
    "    logits = output(network, 10)\n",
    "    return logits\n",
    "\n",
    "\n",
    "\"\"\"\n",
    "DON'T MODIFY ANYTHING IN THIS CELL THAT IS BELOW THIS LINE\n",
    "\"\"\"\n",
    "\n",
    "##############################\n",
    "## Build the Neural Network ##\n",
    "##############################\n",
    "\n",
    "# Remove previous weights, bias, inputs, etc..\n",
    "tf.reset_default_graph()\n",
    "\n",
    "# Inputs\n",
    "x = neural_net_image_input((32, 32, 3))\n",
    "y = neural_net_label_input(10)\n",
    "keep_prob = neural_net_keep_prob_input()\n",
    "\n",
    "# Model\n",
    "logits = conv_net(x, keep_prob)\n",
    "\n",
    "# Name logits Tensor, so that is can be loaded from disk after training\n",
    "logits = tf.identity(logits, name='logits')\n",
    "\n",
    "# Loss and Optimizer\n",
    "cost = tf.reduce_mean(tf.nn.softmax_cross_entropy_with_logits(logits=logits, labels=y))\n",
    "optimizer = tf.train.AdamOptimizer().minimize(cost)\n",
    "\n",
    "# Accuracy\n",
    "correct_pred = tf.equal(tf.argmax(logits, 1), tf.argmax(y, 1))\n",
    "accuracy = tf.reduce_mean(tf.cast(correct_pred, tf.float32), name='accuracy')\n",
    "\n",
    "tests.test_conv_net(conv_net)"
   ]
  },
  {
   "cell_type": "markdown",
   "metadata": {
    "deletable": true,
    "editable": true,
    "ein.tags": [
     "worksheet-0"
    ],
    "slideshow": {
     "slide_type": "-"
    }
   },
   "source": [
    "## Train the Neural Network\n",
    "### Single Optimization\n",
    "Implement the function `train_neural_network` to do a single optimization.  The optimization should use `optimizer` to optimize in `session` with a `feed_dict` of the following:\n",
    "* `x` for image input\n",
    "* `y` for labels\n",
    "* `keep_prob` for keep probability for dropout\n",
    "\n",
    "This function will be called for each batch, so `tf.global_variables_initializer()` has already been called.\n",
    "\n",
    "Note: Nothing needs to be returned. This function is only optimizing the neural network."
   ]
  },
  {
   "cell_type": "code",
   "execution_count": 16,
   "metadata": {
    "autoscroll": "json-false",
    "collapsed": false,
    "deletable": true,
    "editable": true,
    "ein.tags": [
     "worksheet-0"
    ],
    "slideshow": {
     "slide_type": "-"
    }
   },
   "outputs": [
    {
     "name": "stdout",
     "output_type": "stream",
     "text": [
      "Tests Passed\n"
     ]
    }
   ],
   "source": [
    "def train_neural_network(session, optimizer, keep_probability, feature_batch, label_batch):\n",
    "    \"\"\"\n",
    "    Optimize the session on a batch of images and labels\n",
    "    : session: Current TensorFlow session\n",
    "    : optimizer: TensorFlow optimizer function\n",
    "    : keep_probability: keep probability\n",
    "    : feature_batch: Batch of Numpy image data\n",
    "    : label_batch: Batch of Numpy label data\n",
    "    \"\"\"\n",
    "    session.run(optimizer, feed_dict={x:feature_batch, y:label_batch, keep_prob:keep_probability})\n",
    "\n",
    "\n",
    "\"\"\"\n",
    "DON'T MODIFY ANYTHING IN THIS CELL THAT IS BELOW THIS LINE\n",
    "\"\"\"\n",
    "tests.test_train_nn(train_neural_network)"
   ]
  },
  {
   "cell_type": "markdown",
   "metadata": {
    "deletable": true,
    "editable": true,
    "ein.tags": [
     "worksheet-0"
    ],
    "slideshow": {
     "slide_type": "-"
    }
   },
   "source": [
    "### Show Stats\n",
    "Implement the function `print_stats` to print loss and validation accuracy.  Use the global variables `valid_features` and `valid_labels` to calculate validation accuracy.  Use a keep probability of `1.0` to calculate the loss and validation accuracy."
   ]
  },
  {
   "cell_type": "code",
   "execution_count": 17,
   "metadata": {
    "autoscroll": "json-false",
    "collapsed": false,
    "deletable": true,
    "editable": true,
    "ein.tags": [
     "worksheet-0"
    ],
    "slideshow": {
     "slide_type": "-"
    }
   },
   "outputs": [],
   "source": [
    "def print_stats(session, feature_batch, label_batch, cost, accuracy):\n",
    "    \"\"\"\n",
    "    Print information about loss and validation accuracy\n",
    "    : session: Current TensorFlow session\n",
    "    : feature_batch: Batch of Numpy image data\n",
    "    : label_batch: Batch of Numpy label data\n",
    "    : cost: TensorFlow cost function\n",
    "    : accuracy: TensorFlow accuracy function\n",
    "    \"\"\"\n",
    "    train_loss = session.run(cost, feed_dict={x:feature_batch, y:label_batch, keep_prob:1.0})\n",
    "    train_acc = session.run(accuracy, feed_dict={x:feature_batch, y:label_batch, keep_prob:1.0})\n",
    "    valid_loss = session.run(cost, feed_dict={x:valid_features, y:valid_labels, keep_prob:1.0})\n",
    "    valid_acc = session.run(accuracy, feed_dict={x:valid_features, y:valid_labels, keep_prob:1.0})\n",
    "    print(\"train_loss: {0:.4f} train_accuracy: {1:.4f} ,valid_loss: {2:.4f} valid_accuracy: {3:.4f}\".format(train_loss, train_acc, valid_loss, valid_acc))"
   ]
  },
  {
   "cell_type": "markdown",
   "metadata": {
    "deletable": true,
    "editable": true,
    "ein.tags": [
     "worksheet-0"
    ],
    "slideshow": {
     "slide_type": "-"
    }
   },
   "source": [
    "### Hyperparameters\n",
    "Tune the following parameters:\n",
    "* Set `epochs` to the number of iterations until the network stops learning or start overfitting\n",
    "* Set `batch_size` to the highest number that your machine has memory for.  Most people set them to common sizes of memory:\n",
    " * 64\n",
    " * 128\n",
    " * 256\n",
    " * ...\n",
    "* Set `keep_probability` to the probability of keeping a node using dropout"
   ]
  },
  {
   "cell_type": "code",
   "execution_count": 31,
   "metadata": {
    "autoscroll": "json-false",
    "collapsed": false,
    "deletable": true,
    "editable": true,
    "ein.tags": [
     "worksheet-0"
    ],
    "slideshow": {
     "slide_type": "-"
    }
   },
   "outputs": [],
   "source": [
    "# TODO: Tune Parameters\n",
    "epochs = 25\n",
    "batch_size = 512\n",
    "keep_probability = 0.75"
   ]
  },
  {
   "cell_type": "markdown",
   "metadata": {
    "deletable": true,
    "editable": true,
    "ein.tags": [
     "worksheet-0"
    ],
    "slideshow": {
     "slide_type": "-"
    }
   },
   "source": [
    "### Train on a Single CIFAR-10 Batch\n",
    "Instead of training the neural network on all the CIFAR-10 batches of data, let's use a single batch. This should save time while you iterate on the model to get a better accuracy.  Once the final validation accuracy is 50% or greater, run the model on all the data in the next section."
   ]
  },
  {
   "cell_type": "code",
   "execution_count": 45,
   "metadata": {
    "autoscroll": "json-false",
    "collapsed": false,
    "deletable": true,
    "editable": true,
    "ein.tags": [
     "worksheet-0"
    ],
    "slideshow": {
     "slide_type": "-"
    }
   },
   "outputs": [
    {
     "name": "stdout",
     "output_type": "stream",
     "text": [
      "Checking the Training on a Single Batch...\n",
      "Epoch  1, CIFAR-10 Batch 1:  train_loss: 2.1450 train_accuracy: 0.2230 ,valid_loss: 2.1594 valid_accuracy: 0.2044\n",
      "Epoch  2, CIFAR-10 Batch 1:  train_loss: 1.9065 train_accuracy: 0.3446 ,valid_loss: 1.9147 valid_accuracy: 0.3154\n",
      "Epoch  3, CIFAR-10 Batch 1:  train_loss: 1.6007 train_accuracy: 0.4426 ,valid_loss: 1.6970 valid_accuracy: 0.3932\n",
      "Epoch  4, CIFAR-10 Batch 1:  train_loss: 1.3643 train_accuracy: 0.5236 ,valid_loss: 1.5833 valid_accuracy: 0.4248\n",
      "Epoch  5, CIFAR-10 Batch 1:  train_loss: 1.1208 train_accuracy: 0.6284 ,valid_loss: 1.4717 valid_accuracy: 0.4670\n",
      "Epoch  6, CIFAR-10 Batch 1:  train_loss: 0.9044 train_accuracy: 0.7027 ,valid_loss: 1.4193 valid_accuracy: 0.4926\n",
      "Epoch  7, CIFAR-10 Batch 1:  train_loss: 0.6944 train_accuracy: 0.8108 ,valid_loss: 1.3971 valid_accuracy: 0.5064\n",
      "Epoch  8, CIFAR-10 Batch 1:  train_loss: 0.5173 train_accuracy: 0.9054 ,valid_loss: 1.3697 valid_accuracy: 0.5212\n",
      "Epoch  9, CIFAR-10 Batch 1:  train_loss: 0.3779 train_accuracy: 0.9324 ,valid_loss: 1.3726 valid_accuracy: 0.5276\n",
      "Epoch 10, CIFAR-10 Batch 1:  train_loss: 0.3030 train_accuracy: 0.9426 ,valid_loss: 1.4154 valid_accuracy: 0.5292\n",
      "Epoch 11, CIFAR-10 Batch 1:  train_loss: 0.2672 train_accuracy: 0.9426 ,valid_loss: 1.5213 valid_accuracy: 0.5090\n",
      "Epoch 12, CIFAR-10 Batch 1:  train_loss: 0.1882 train_accuracy: 0.9764 ,valid_loss: 1.5270 valid_accuracy: 0.5104\n",
      "Epoch 13, CIFAR-10 Batch 1:  train_loss: 0.1214 train_accuracy: 0.9764 ,valid_loss: 1.5279 valid_accuracy: 0.5284\n",
      "Epoch 14, CIFAR-10 Batch 1:  train_loss: 0.1009 train_accuracy: 0.9730 ,valid_loss: 1.5594 valid_accuracy: 0.5262\n",
      "Epoch 15, CIFAR-10 Batch 1:  train_loss: 0.0964 train_accuracy: 0.9932 ,valid_loss: 1.7127 valid_accuracy: 0.4988\n",
      "Epoch 16, CIFAR-10 Batch 1:  train_loss: 0.0632 train_accuracy: 1.0000 ,valid_loss: 1.5424 valid_accuracy: 0.5392\n",
      "Epoch 17, CIFAR-10 Batch 1:  train_loss: 0.0576 train_accuracy: 0.9966 ,valid_loss: 1.7068 valid_accuracy: 0.5378\n",
      "Epoch 18, CIFAR-10 Batch 1:  train_loss: 0.0389 train_accuracy: 1.0000 ,valid_loss: 1.6901 valid_accuracy: 0.5370\n",
      "Epoch 19, CIFAR-10 Batch 1:  train_loss: 0.0251 train_accuracy: 1.0000 ,valid_loss: 1.7395 valid_accuracy: 0.5484\n",
      "Epoch 20, CIFAR-10 Batch 1:  train_loss: 0.0087 train_accuracy: 1.0000 ,valid_loss: 1.8369 valid_accuracy: 0.5614\n",
      "Epoch 21, CIFAR-10 Batch 1:  train_loss: 0.0103 train_accuracy: 0.9966 ,valid_loss: 1.8745 valid_accuracy: 0.5620\n",
      "Epoch 22, CIFAR-10 Batch 1:  train_loss: 0.0084 train_accuracy: 1.0000 ,valid_loss: 1.8886 valid_accuracy: 0.5602\n",
      "Epoch 23, CIFAR-10 Batch 1:  train_loss: 0.0052 train_accuracy: 1.0000 ,valid_loss: 1.9523 valid_accuracy: 0.5652\n",
      "Epoch 24, CIFAR-10 Batch 1:  train_loss: 0.0030 train_accuracy: 1.0000 ,valid_loss: 1.8944 valid_accuracy: 0.5586\n",
      "Epoch 25, CIFAR-10 Batch 1:  train_loss: 0.0027 train_accuracy: 1.0000 ,valid_loss: 2.0637 valid_accuracy: 0.5556\n"
     ]
    }
   ],
   "source": [
    "\"\"\"\n",
    "DON'T MODIFY ANYTHING IN THIS CELL\n",
    "\"\"\"\n",
    "print('Checking the Training on a Single Batch...')\n",
    "with tf.Session() as sess:\n",
    "    # Initializing the variables\n",
    "    sess.run(tf.global_variables_initializer())\n",
    "    \n",
    "    # Training cycle\n",
    "    for epoch in range(epochs):\n",
    "        batch_i = 1\n",
    "        for batch_features, batch_labels in helper.load_preprocess_training_batch(batch_i, batch_size):\n",
    "            train_neural_network(sess, optimizer, keep_probability, batch_features, batch_labels)\n",
    "        print('Epoch {:>2}, CIFAR-10 Batch {}:  '.format(epoch + 1, batch_i), end='')\n",
    "        print_stats(sess, batch_features, batch_labels, cost, accuracy)"
   ]
  },
  {
   "cell_type": "markdown",
   "metadata": {
    "deletable": true,
    "editable": true,
    "ein.tags": [
     "worksheet-0"
    ],
    "slideshow": {
     "slide_type": "-"
    }
   },
   "source": [
    "### Fully Train the Model\n",
    "Now that you got a good accuracy with a single CIFAR-10 batch, try it with all five batches."
   ]
  },
  {
   "cell_type": "code",
   "execution_count": 46,
   "metadata": {
    "autoscroll": "json-false",
    "collapsed": false,
    "deletable": true,
    "editable": true,
    "ein.tags": [
     "worksheet-0"
    ],
    "slideshow": {
     "slide_type": "-"
    }
   },
   "outputs": [
    {
     "name": "stdout",
     "output_type": "stream",
     "text": [
      "Training...\n",
      "Epoch  1, CIFAR-10 Batch 1:  train_loss: 2.2798 train_accuracy: 0.2027 ,valid_loss: 2.2882 valid_accuracy: 0.1886\n",
      "Epoch  1, CIFAR-10 Batch 2:  train_loss: 1.8629 train_accuracy: 0.3682 ,valid_loss: 1.9026 valid_accuracy: 0.3364\n",
      "Epoch  1, CIFAR-10 Batch 3:  train_loss: 1.5758 train_accuracy: 0.4595 ,valid_loss: 1.6887 valid_accuracy: 0.4044\n",
      "Epoch  1, CIFAR-10 Batch 4:  train_loss: 1.4956 train_accuracy: 0.4324 ,valid_loss: 1.5520 valid_accuracy: 0.4460\n",
      "Epoch  1, CIFAR-10 Batch 5:  train_loss: 1.4588 train_accuracy: 0.4899 ,valid_loss: 1.4540 valid_accuracy: 0.4732\n",
      "Epoch  2, CIFAR-10 Batch 1:  train_loss: 1.4117 train_accuracy: 0.5473 ,valid_loss: 1.3969 valid_accuracy: 0.4906\n",
      "Epoch  2, CIFAR-10 Batch 2:  train_loss: 1.2185 train_accuracy: 0.5743 ,valid_loss: 1.3539 valid_accuracy: 0.5092\n",
      "Epoch  2, CIFAR-10 Batch 3:  train_loss: 1.1291 train_accuracy: 0.6182 ,valid_loss: 1.2998 valid_accuracy: 0.5250\n",
      "Epoch  2, CIFAR-10 Batch 4:  train_loss: 1.0827 train_accuracy: 0.6014 ,valid_loss: 1.2494 valid_accuracy: 0.5482\n",
      "Epoch  2, CIFAR-10 Batch 5:  train_loss: 1.0313 train_accuracy: 0.6419 ,valid_loss: 1.2226 valid_accuracy: 0.5566\n",
      "Epoch  3, CIFAR-10 Batch 1:  train_loss: 1.0825 train_accuracy: 0.6419 ,valid_loss: 1.2086 valid_accuracy: 0.5656\n",
      "Epoch  3, CIFAR-10 Batch 2:  train_loss: 0.9260 train_accuracy: 0.7196 ,valid_loss: 1.1796 valid_accuracy: 0.5734\n",
      "Epoch  3, CIFAR-10 Batch 3:  train_loss: 0.8809 train_accuracy: 0.6993 ,valid_loss: 1.1532 valid_accuracy: 0.5824\n",
      "Epoch  3, CIFAR-10 Batch 4:  train_loss: 0.8282 train_accuracy: 0.6858 ,valid_loss: 1.1198 valid_accuracy: 0.5958\n",
      "Epoch  3, CIFAR-10 Batch 5:  train_loss: 0.7599 train_accuracy: 0.7838 ,valid_loss: 1.1061 valid_accuracy: 0.6030\n",
      "Epoch  4, CIFAR-10 Batch 1:  train_loss: 0.8376 train_accuracy: 0.7432 ,valid_loss: 1.1088 valid_accuracy: 0.6084\n",
      "Epoch  4, CIFAR-10 Batch 2:  train_loss: 0.7152 train_accuracy: 0.7939 ,valid_loss: 1.0866 valid_accuracy: 0.6058\n",
      "Epoch  4, CIFAR-10 Batch 3:  train_loss: 0.6511 train_accuracy: 0.7905 ,valid_loss: 1.0965 valid_accuracy: 0.6120\n",
      "Epoch  4, CIFAR-10 Batch 4:  train_loss: 0.6280 train_accuracy: 0.7905 ,valid_loss: 1.0716 valid_accuracy: 0.6156\n",
      "Epoch  4, CIFAR-10 Batch 5:  train_loss: 0.5664 train_accuracy: 0.8649 ,valid_loss: 1.0799 valid_accuracy: 0.6142\n",
      "Epoch  5, CIFAR-10 Batch 1:  train_loss: 0.6748 train_accuracy: 0.7703 ,valid_loss: 1.1089 valid_accuracy: 0.6130\n",
      "Epoch  5, CIFAR-10 Batch 2:  train_loss: 0.5662 train_accuracy: 0.8277 ,valid_loss: 1.0775 valid_accuracy: 0.6162\n",
      "Epoch  5, CIFAR-10 Batch 3:  train_loss: 0.4748 train_accuracy: 0.8514 ,valid_loss: 1.0683 valid_accuracy: 0.6298\n",
      "Epoch  5, CIFAR-10 Batch 4:  train_loss: 0.4646 train_accuracy: 0.8615 ,valid_loss: 1.0503 valid_accuracy: 0.6296\n",
      "Epoch  5, CIFAR-10 Batch 5:  train_loss: 0.3932 train_accuracy: 0.8953 ,valid_loss: 1.0365 valid_accuracy: 0.6386\n",
      "Epoch  6, CIFAR-10 Batch 1:  train_loss: 0.4850 train_accuracy: 0.8615 ,valid_loss: 1.1041 valid_accuracy: 0.6232\n",
      "Epoch  6, CIFAR-10 Batch 2:  train_loss: 0.4315 train_accuracy: 0.8784 ,valid_loss: 1.0512 valid_accuracy: 0.6350\n",
      "Epoch  6, CIFAR-10 Batch 3:  train_loss: 0.3324 train_accuracy: 0.9088 ,valid_loss: 1.1068 valid_accuracy: 0.6326\n",
      "Epoch  6, CIFAR-10 Batch 4:  train_loss: 0.3033 train_accuracy: 0.9324 ,valid_loss: 1.0642 valid_accuracy: 0.6402\n",
      "Epoch  6, CIFAR-10 Batch 5:  train_loss: 0.2716 train_accuracy: 0.9459 ,valid_loss: 1.0642 valid_accuracy: 0.6338\n",
      "Epoch  7, CIFAR-10 Batch 1:  train_loss: 0.3620 train_accuracy: 0.9054 ,valid_loss: 1.0840 valid_accuracy: 0.6344\n",
      "Epoch  7, CIFAR-10 Batch 2:  train_loss: 0.3223 train_accuracy: 0.9189 ,valid_loss: 1.0858 valid_accuracy: 0.6282\n",
      "Epoch  7, CIFAR-10 Batch 3:  train_loss: 0.2288 train_accuracy: 0.9493 ,valid_loss: 1.0939 valid_accuracy: 0.6388\n",
      "Epoch  7, CIFAR-10 Batch 4:  train_loss: 0.2196 train_accuracy: 0.9561 ,valid_loss: 1.1000 valid_accuracy: 0.6350\n",
      "Epoch  7, CIFAR-10 Batch 5:  train_loss: 0.1633 train_accuracy: 0.9730 ,valid_loss: 1.0960 valid_accuracy: 0.6454\n",
      "Epoch  8, CIFAR-10 Batch 1:  train_loss: 0.2304 train_accuracy: 0.9324 ,valid_loss: 1.0951 valid_accuracy: 0.6494\n",
      "Epoch  8, CIFAR-10 Batch 2:  train_loss: 0.2149 train_accuracy: 0.9561 ,valid_loss: 1.1078 valid_accuracy: 0.6272\n",
      "Epoch  8, CIFAR-10 Batch 3:  train_loss: 0.1668 train_accuracy: 0.9797 ,valid_loss: 1.1627 valid_accuracy: 0.6310\n",
      "Epoch  8, CIFAR-10 Batch 4:  train_loss: 0.1591 train_accuracy: 0.9730 ,valid_loss: 1.1387 valid_accuracy: 0.6440\n",
      "Epoch  8, CIFAR-10 Batch 5:  train_loss: 0.1410 train_accuracy: 0.9797 ,valid_loss: 1.1563 valid_accuracy: 0.6374\n",
      "Epoch  9, CIFAR-10 Batch 1:  train_loss: 0.1972 train_accuracy: 0.9527 ,valid_loss: 1.1439 valid_accuracy: 0.6424\n",
      "Epoch  9, CIFAR-10 Batch 2:  train_loss: 0.1648 train_accuracy: 0.9730 ,valid_loss: 1.1751 valid_accuracy: 0.6310\n",
      "Epoch  9, CIFAR-10 Batch 3:  train_loss: 0.1351 train_accuracy: 0.9865 ,valid_loss: 1.2459 valid_accuracy: 0.6226\n",
      "Epoch  9, CIFAR-10 Batch 4:  train_loss: 0.1515 train_accuracy: 0.9797 ,valid_loss: 1.1565 valid_accuracy: 0.6296\n",
      "Epoch  9, CIFAR-10 Batch 5:  train_loss: 0.1265 train_accuracy: 0.9831 ,valid_loss: 1.1973 valid_accuracy: 0.6318\n",
      "Epoch 10, CIFAR-10 Batch 1:  train_loss: 0.1376 train_accuracy: 0.9764 ,valid_loss: 1.1735 valid_accuracy: 0.6428\n",
      "Epoch 10, CIFAR-10 Batch 2:  train_loss: 0.1259 train_accuracy: 0.9797 ,valid_loss: 1.2437 valid_accuracy: 0.6214\n",
      "Epoch 10, CIFAR-10 Batch 3:  train_loss: 0.0984 train_accuracy: 0.9899 ,valid_loss: 1.2899 valid_accuracy: 0.6216\n",
      "Epoch 10, CIFAR-10 Batch 4:  train_loss: 0.0916 train_accuracy: 0.9831 ,valid_loss: 1.1587 valid_accuracy: 0.6466\n",
      "Epoch 10, CIFAR-10 Batch 5:  train_loss: 0.0863 train_accuracy: 0.9932 ,valid_loss: 1.2253 valid_accuracy: 0.6302\n",
      "Epoch 11, CIFAR-10 Batch 1:  train_loss: 0.0800 train_accuracy: 0.9899 ,valid_loss: 1.2984 valid_accuracy: 0.6402\n",
      "Epoch 11, CIFAR-10 Batch 2:  train_loss: 0.0895 train_accuracy: 0.9865 ,valid_loss: 1.1921 valid_accuracy: 0.6378\n",
      "Epoch 11, CIFAR-10 Batch 3:  train_loss: 0.1002 train_accuracy: 0.9865 ,valid_loss: 1.2986 valid_accuracy: 0.6276\n",
      "Epoch 11, CIFAR-10 Batch 4:  train_loss: 0.0842 train_accuracy: 0.9899 ,valid_loss: 1.1825 valid_accuracy: 0.6414\n",
      "Epoch 11, CIFAR-10 Batch 5:  train_loss: 0.0786 train_accuracy: 0.9865 ,valid_loss: 1.2453 valid_accuracy: 0.6386\n",
      "Epoch 12, CIFAR-10 Batch 1:  train_loss: 0.0548 train_accuracy: 0.9966 ,valid_loss: 1.3055 valid_accuracy: 0.6462\n",
      "Epoch 12, CIFAR-10 Batch 2:  train_loss: 0.0730 train_accuracy: 0.9831 ,valid_loss: 1.3027 valid_accuracy: 0.6392\n",
      "Epoch 12, CIFAR-10 Batch 3:  train_loss: 0.0566 train_accuracy: 0.9932 ,valid_loss: 1.3085 valid_accuracy: 0.6384\n",
      "Epoch 12, CIFAR-10 Batch 4:  train_loss: 0.0711 train_accuracy: 0.9932 ,valid_loss: 1.2659 valid_accuracy: 0.6486\n",
      "Epoch 12, CIFAR-10 Batch 5:  train_loss: 0.0367 train_accuracy: 1.0000 ,valid_loss: 1.3144 valid_accuracy: 0.6438\n",
      "Epoch 13, CIFAR-10 Batch 1:  train_loss: 0.0649 train_accuracy: 0.9899 ,valid_loss: 1.3539 valid_accuracy: 0.6284\n",
      "Epoch 13, CIFAR-10 Batch 2:  train_loss: 0.0662 train_accuracy: 0.9932 ,valid_loss: 1.3072 valid_accuracy: 0.6356\n",
      "Epoch 13, CIFAR-10 Batch 3:  train_loss: 0.0559 train_accuracy: 0.9932 ,valid_loss: 1.4114 valid_accuracy: 0.6284\n",
      "Epoch 13, CIFAR-10 Batch 4:  train_loss: 0.0446 train_accuracy: 0.9966 ,valid_loss: 1.3633 valid_accuracy: 0.6332\n",
      "Epoch 13, CIFAR-10 Batch 5:  train_loss: 0.0279 train_accuracy: 0.9899 ,valid_loss: 1.4071 valid_accuracy: 0.6414\n",
      "Epoch 14, CIFAR-10 Batch 1:  train_loss: 0.0310 train_accuracy: 1.0000 ,valid_loss: 1.3572 valid_accuracy: 0.6386\n",
      "Epoch 14, CIFAR-10 Batch 2:  train_loss: 0.0357 train_accuracy: 0.9966 ,valid_loss: 1.3939 valid_accuracy: 0.6400\n",
      "Epoch 14, CIFAR-10 Batch 3:  train_loss: 0.0254 train_accuracy: 1.0000 ,valid_loss: 1.4907 valid_accuracy: 0.6342\n",
      "Epoch 14, CIFAR-10 Batch 4:  train_loss: 0.0280 train_accuracy: 1.0000 ,valid_loss: 1.4487 valid_accuracy: 0.6460\n",
      "Epoch 14, CIFAR-10 Batch 5:  train_loss: 0.0198 train_accuracy: 0.9966 ,valid_loss: 1.5997 valid_accuracy: 0.6344\n",
      "Epoch 15, CIFAR-10 Batch 1:  train_loss: 0.0209 train_accuracy: 1.0000 ,valid_loss: 1.4329 valid_accuracy: 0.6484\n",
      "Epoch 15, CIFAR-10 Batch 2:  train_loss: 0.0273 train_accuracy: 0.9966 ,valid_loss: 1.4574 valid_accuracy: 0.6432\n",
      "Epoch 15, CIFAR-10 Batch 3:  train_loss: 0.0144 train_accuracy: 1.0000 ,valid_loss: 1.5508 valid_accuracy: 0.6474\n",
      "Epoch 15, CIFAR-10 Batch 4:  train_loss: 0.0216 train_accuracy: 0.9966 ,valid_loss: 1.5953 valid_accuracy: 0.6424\n",
      "Epoch 15, CIFAR-10 Batch 5:  train_loss: 0.0178 train_accuracy: 1.0000 ,valid_loss: 1.5779 valid_accuracy: 0.6488\n",
      "Epoch 16, CIFAR-10 Batch 1:  train_loss: 0.0189 train_accuracy: 1.0000 ,valid_loss: 1.4829 valid_accuracy: 0.6454\n",
      "Epoch 16, CIFAR-10 Batch 2:  train_loss: 0.0230 train_accuracy: 0.9932 ,valid_loss: 1.5460 valid_accuracy: 0.6330\n",
      "Epoch 16, CIFAR-10 Batch 3:  train_loss: 0.0136 train_accuracy: 1.0000 ,valid_loss: 1.6207 valid_accuracy: 0.6436\n",
      "Epoch 16, CIFAR-10 Batch 4:  train_loss: 0.0168 train_accuracy: 1.0000 ,valid_loss: 1.6235 valid_accuracy: 0.6360\n",
      "Epoch 16, CIFAR-10 Batch 5:  train_loss: 0.0219 train_accuracy: 0.9932 ,valid_loss: 1.6544 valid_accuracy: 0.6434\n",
      "Epoch 17, CIFAR-10 Batch 1:  train_loss: 0.0214 train_accuracy: 0.9966 ,valid_loss: 1.5440 valid_accuracy: 0.6442\n",
      "Epoch 17, CIFAR-10 Batch 2:  train_loss: 0.0312 train_accuracy: 0.9932 ,valid_loss: 1.5753 valid_accuracy: 0.6420\n",
      "Epoch 17, CIFAR-10 Batch 3:  train_loss: 0.0190 train_accuracy: 1.0000 ,valid_loss: 1.7382 valid_accuracy: 0.6364\n",
      "Epoch 17, CIFAR-10 Batch 4:  train_loss: 0.0295 train_accuracy: 0.9899 ,valid_loss: 1.7377 valid_accuracy: 0.6324\n",
      "Epoch 17, CIFAR-10 Batch 5:  train_loss: 0.0069 train_accuracy: 1.0000 ,valid_loss: 1.6341 valid_accuracy: 0.6498\n",
      "Epoch 18, CIFAR-10 Batch 1:  train_loss: 0.0127 train_accuracy: 0.9966 ,valid_loss: 1.5196 valid_accuracy: 0.6492\n",
      "Epoch 18, CIFAR-10 Batch 2:  train_loss: 0.0226 train_accuracy: 0.9966 ,valid_loss: 1.6919 valid_accuracy: 0.6340\n",
      "Epoch 18, CIFAR-10 Batch 3:  train_loss: 0.0143 train_accuracy: 1.0000 ,valid_loss: 1.5957 valid_accuracy: 0.6410\n",
      "Epoch 18, CIFAR-10 Batch 4:  train_loss: 0.0316 train_accuracy: 0.9966 ,valid_loss: 1.6085 valid_accuracy: 0.6316\n",
      "Epoch 18, CIFAR-10 Batch 5:  train_loss: 0.0066 train_accuracy: 1.0000 ,valid_loss: 1.6543 valid_accuracy: 0.6464\n",
      "Epoch 19, CIFAR-10 Batch 1:  train_loss: 0.0040 train_accuracy: 1.0000 ,valid_loss: 1.5974 valid_accuracy: 0.6700\n",
      "Epoch 19, CIFAR-10 Batch 2:  train_loss: 0.0051 train_accuracy: 1.0000 ,valid_loss: 1.5858 valid_accuracy: 0.6496\n",
      "Epoch 19, CIFAR-10 Batch 3:  train_loss: 0.0082 train_accuracy: 1.0000 ,valid_loss: 1.5648 valid_accuracy: 0.6532\n",
      "Epoch 19, CIFAR-10 Batch 4:  train_loss: 0.0063 train_accuracy: 1.0000 ,valid_loss: 1.5798 valid_accuracy: 0.6406\n",
      "Epoch 19, CIFAR-10 Batch 5:  train_loss: 0.0042 train_accuracy: 1.0000 ,valid_loss: 1.6522 valid_accuracy: 0.6634\n",
      "Epoch 20, CIFAR-10 Batch 1:  train_loss: 0.0070 train_accuracy: 1.0000 ,valid_loss: 1.7492 valid_accuracy: 0.6560\n",
      "Epoch 20, CIFAR-10 Batch 2:  train_loss: 0.0041 train_accuracy: 1.0000 ,valid_loss: 1.6279 valid_accuracy: 0.6526\n",
      "Epoch 20, CIFAR-10 Batch 3:  train_loss: 0.0050 train_accuracy: 1.0000 ,valid_loss: 1.6517 valid_accuracy: 0.6494\n",
      "Epoch 20, CIFAR-10 Batch 4:  train_loss: 0.0048 train_accuracy: 1.0000 ,valid_loss: 1.6983 valid_accuracy: 0.6544\n",
      "Epoch 20, CIFAR-10 Batch 5:  train_loss: 0.0023 train_accuracy: 1.0000 ,valid_loss: 1.7705 valid_accuracy: 0.6556\n",
      "Epoch 21, CIFAR-10 Batch 1:  train_loss: 0.0056 train_accuracy: 1.0000 ,valid_loss: 1.8276 valid_accuracy: 0.6514\n",
      "Epoch 21, CIFAR-10 Batch 2:  train_loss: 0.0041 train_accuracy: 1.0000 ,valid_loss: 1.6860 valid_accuracy: 0.6480\n",
      "Epoch 21, CIFAR-10 Batch 3:  train_loss: 0.0042 train_accuracy: 1.0000 ,valid_loss: 1.7444 valid_accuracy: 0.6556\n",
      "Epoch 21, CIFAR-10 Batch 4:  train_loss: 0.0028 train_accuracy: 1.0000 ,valid_loss: 1.7240 valid_accuracy: 0.6586\n",
      "Epoch 21, CIFAR-10 Batch 5:  train_loss: 0.0033 train_accuracy: 1.0000 ,valid_loss: 1.7260 valid_accuracy: 0.6526\n",
      "Epoch 22, CIFAR-10 Batch 1:  train_loss: 0.0025 train_accuracy: 1.0000 ,valid_loss: 1.8382 valid_accuracy: 0.6510\n",
      "Epoch 22, CIFAR-10 Batch 2:  train_loss: 0.0037 train_accuracy: 1.0000 ,valid_loss: 1.7745 valid_accuracy: 0.6530\n",
      "Epoch 22, CIFAR-10 Batch 3:  train_loss: 0.0032 train_accuracy: 1.0000 ,valid_loss: 1.7853 valid_accuracy: 0.6526\n",
      "Epoch 22, CIFAR-10 Batch 4:  train_loss: 0.0044 train_accuracy: 1.0000 ,valid_loss: 1.8279 valid_accuracy: 0.6452\n",
      "Epoch 22, CIFAR-10 Batch 5:  train_loss: 0.0021 train_accuracy: 1.0000 ,valid_loss: 1.8264 valid_accuracy: 0.6536\n",
      "Epoch 23, CIFAR-10 Batch 1:  train_loss: 0.0020 train_accuracy: 1.0000 ,valid_loss: 1.7528 valid_accuracy: 0.6648\n",
      "Epoch 23, CIFAR-10 Batch 2:  train_loss: 0.0023 train_accuracy: 1.0000 ,valid_loss: 1.7646 valid_accuracy: 0.6594\n",
      "Epoch 23, CIFAR-10 Batch 3:  train_loss: 0.0031 train_accuracy: 1.0000 ,valid_loss: 1.7819 valid_accuracy: 0.6544\n",
      "Epoch 23, CIFAR-10 Batch 4:  train_loss: 0.0042 train_accuracy: 1.0000 ,valid_loss: 1.8238 valid_accuracy: 0.6508\n",
      "Epoch 23, CIFAR-10 Batch 5:  train_loss: 0.0025 train_accuracy: 1.0000 ,valid_loss: 1.7569 valid_accuracy: 0.6610\n",
      "Epoch 24, CIFAR-10 Batch 1:  train_loss: 0.0017 train_accuracy: 1.0000 ,valid_loss: 1.8383 valid_accuracy: 0.6604\n",
      "Epoch 24, CIFAR-10 Batch 2:  train_loss: 0.0018 train_accuracy: 1.0000 ,valid_loss: 1.7500 valid_accuracy: 0.6608\n",
      "Epoch 24, CIFAR-10 Batch 3:  train_loss: 0.0024 train_accuracy: 1.0000 ,valid_loss: 1.7650 valid_accuracy: 0.6544\n",
      "Epoch 24, CIFAR-10 Batch 4:  train_loss: 0.0033 train_accuracy: 1.0000 ,valid_loss: 1.8652 valid_accuracy: 0.6566\n",
      "Epoch 24, CIFAR-10 Batch 5:  train_loss: 0.0080 train_accuracy: 0.9966 ,valid_loss: 1.8078 valid_accuracy: 0.6626\n",
      "Epoch 25, CIFAR-10 Batch 1:  train_loss: 0.0017 train_accuracy: 1.0000 ,valid_loss: 1.9417 valid_accuracy: 0.6552\n",
      "Epoch 25, CIFAR-10 Batch 2:  train_loss: 0.0015 train_accuracy: 1.0000 ,valid_loss: 1.8274 valid_accuracy: 0.6668\n",
      "Epoch 25, CIFAR-10 Batch 3:  train_loss: 0.0016 train_accuracy: 1.0000 ,valid_loss: 1.7929 valid_accuracy: 0.6644\n",
      "Epoch 25, CIFAR-10 Batch 4:  train_loss: 0.0017 train_accuracy: 1.0000 ,valid_loss: 1.9002 valid_accuracy: 0.6386\n",
      "Epoch 25, CIFAR-10 Batch 5:  train_loss: 0.0022 train_accuracy: 1.0000 ,valid_loss: 1.9129 valid_accuracy: 0.6524\n"
     ]
    }
   ],
   "source": [
    "\"\"\"\n",
    "DON'T MODIFY ANYTHING IN THIS CELL\n",
    "\"\"\"\n",
    "save_model_path = './image_classification'\n",
    "\n",
    "print('Training...')\n",
    "with tf.Session() as sess:\n",
    "    # Initializing the variables\n",
    "    sess.run(tf.global_variables_initializer())\n",
    "    \n",
    "    # Training cycle\n",
    "    for epoch in range(epochs):\n",
    "        # Loop over all batches\n",
    "        n_batches = 5\n",
    "        for batch_i in range(1, n_batches + 1):\n",
    "            for batch_features, batch_labels in helper.load_preprocess_training_batch(batch_i, batch_size):\n",
    "                train_neural_network(sess, optimizer, keep_probability, batch_features, batch_labels)\n",
    "            print('Epoch {:>2}, CIFAR-10 Batch {}:  '.format(epoch + 1, batch_i), end='')\n",
    "            print_stats(sess, batch_features, batch_labels, cost, accuracy)\n",
    "            \n",
    "    # Save Model\n",
    "    saver = tf.train.Saver()\n",
    "    save_path = saver.save(sess, save_model_path)"
   ]
  },
  {
   "cell_type": "markdown",
   "metadata": {
    "deletable": true,
    "editable": true,
    "ein.tags": [
     "worksheet-0"
    ],
    "slideshow": {
     "slide_type": "-"
    }
   },
   "source": [
    "# Checkpoint\n",
    "The model has been saved to disk.\n",
    "## Test Model\n",
    "Test your model against the test dataset.  This will be your final accuracy. You should have an accuracy greater than 50%. If you don't, keep tweaking the model architecture and parameters."
   ]
  },
  {
   "cell_type": "code",
   "execution_count": 47,
   "metadata": {
    "autoscroll": "json-false",
    "collapsed": false,
    "deletable": true,
    "editable": true,
    "ein.tags": [
     "worksheet-0"
    ],
    "slideshow": {
     "slide_type": "-"
    }
   },
   "outputs": [
    {
     "name": "stdout",
     "output_type": "stream",
     "text": [
      "Testing Accuracy: 0.65634765625\n",
      "\n"
     ]
    },
    {
     "data": {
      "image/png": "[encoded data removed]",
      "text/plain": [
       "<matplotlib.figure.Figure at 0x7f23184f5a58>"
      ]
     },
     "metadata": {
      "image/png": {
       "height": 319,
       "width": 355
      }
     },
     "output_type": "display_data"
    }
   ],
   "source": [
    "\"\"\"\n",
    "DON'T MODIFY ANYTHING IN THIS CELL\n",
    "\"\"\"\n",
    "%matplotlib inline\n",
    "%config InlineBackend.figure_format = 'retina'\n",
    "\n",
    "import tensorflow as tf\n",
    "import pickle\n",
    "import helper\n",
    "import random\n",
    "\n",
    "# Set batch size if not already set\n",
    "try:\n",
    "    if batch_size:\n",
    "        pass\n",
    "except NameError:\n",
    "    batch_size = 64\n",
    "\n",
    "save_model_path = './image_classification'\n",
    "n_samples = 4\n",
    "top_n_predictions = 3\n",
    "\n",
    "def test_model():\n",
    "    \"\"\"\n",
    "    Test the saved model against the test dataset\n",
    "    \"\"\"\n",
    "\n",
    "    test_features, test_labels = pickle.load(open('preprocess_test.p', mode='rb'))\n",
    "    loaded_graph = tf.Graph()\n",
    "\n",
    "    with tf.Session(graph=loaded_graph) as sess:\n",
    "        # Load model\n",
    "        loader = tf.train.import_meta_graph(save_model_path + '.meta')\n",
    "        loader.restore(sess, save_model_path)\n",
    "\n",
    "        # Get Tensors from loaded model\n",
    "        loaded_x = loaded_graph.get_tensor_by_name('x:0')\n",
    "        loaded_y = loaded_graph.get_tensor_by_name('y:0')\n",
    "        loaded_keep_prob = loaded_graph.get_tensor_by_name('keep_prob:0')\n",
    "        loaded_logits = loaded_graph.get_tensor_by_name('logits:0')\n",
    "        loaded_acc = loaded_graph.get_tensor_by_name('accuracy:0')\n",
    "        \n",
    "        # Get accuracy in batches for memory limitations\n",
    "        test_batch_acc_total = 0\n",
    "        test_batch_count = 0\n",
    "        \n",
    "        for test_feature_batch, test_label_batch in helper.batch_features_labels(test_features, test_labels, batch_size):\n",
    "            test_batch_acc_total += sess.run(\n",
    "                loaded_acc,\n",
    "                feed_dict={loaded_x: test_feature_batch, loaded_y: test_label_batch, loaded_keep_prob: 1.0})\n",
    "            test_batch_count += 1\n",
    "\n",
    "        print('Testing Accuracy: {}\\n'.format(test_batch_acc_total/test_batch_count))\n",
    "\n",
    "        # Print Random Samples\n",
    "        random_test_features, random_test_labels = tuple(zip(*random.sample(list(zip(test_features, test_labels)), n_samples)))\n",
    "        random_test_predictions = sess.run(\n",
    "            tf.nn.top_k(tf.nn.softmax(loaded_logits), top_n_predictions),\n",
    "            feed_dict={loaded_x: random_test_features, loaded_y: random_test_labels, loaded_keep_prob: 1.0})\n",
    "        helper.display_image_predictions(random_test_features, random_test_labels, random_test_predictions)\n",
    "\n",
    "\n",
    "test_model()"
   ]
  },
  {
   "cell_type": "markdown",
   "metadata": {
    "deletable": true,
    "editable": true,
    "ein.tags": [
     "worksheet-0"
    ],
    "slideshow": {
     "slide_type": "-"
    }
   },
   "source": [
    "## Why 50-80% Accuracy?\n",
    "You might be wondering why you can't get an accuracy any higher. First things first, 50% isn't bad for a simple CNN.  Pure guessing would get you 10% accuracy. However, you might notice people are getting scores [well above 80%](http://rodrigob.github.io/are_we_there_yet/build/classification_datasets_results.html#43494641522d3130).  That's because we haven't taught you all there is to know about neural networks. We still need to cover a few more techniques.\n",
    "## Submitting This Project\n",
    "When submitting this project, make sure to run all the cells before saving the notebook.  Save the notebook file as \"dlnd_image_classification.ipynb\" and save it as a HTML file under \"File\" -> \"Download as\".  Include the \"helper.py\" and \"problem_unittests.py\" files in your submission."
   ]
  }
 ],
 "metadata": {
  "kernelspec": {
   "display_name": "Python 3",
   "language": "python",
   "name": "python3"
  },
  "language_info": {
   "codemirror_mode": {
    "name": "ipython",
    "version": 3
   },
   "file_extension": ".py",
   "mimetype": "text/x-python",
   "name": "python",
   "nbconvert_exporter": "python",
   "pygments_lexer": "ipython3",
   "version": "3.5.3"
  },
  "name": "dlnd_image_classification.ipynb"
 },
 "nbformat": 4,
 "nbformat_minor": 0
}
